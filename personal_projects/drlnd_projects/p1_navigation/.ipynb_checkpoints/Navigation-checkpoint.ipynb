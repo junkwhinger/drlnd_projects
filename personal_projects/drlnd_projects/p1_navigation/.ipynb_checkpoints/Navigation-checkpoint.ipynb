{
 "cells": [
  {
   "cell_type": "markdown",
   "metadata": {},
   "source": [
    "# Navigation\n",
    "\n",
    "---\n",
    "\n",
    "In this notebook, you will learn how to use the Unity ML-Agents environment for the first project of the [Deep Reinforcement Learning Nanodegree](https://www.udacity.com/course/deep-reinforcement-learning-nanodegree--nd893).\n",
    "\n",
    "### 1. Start the Environment\n",
    "\n",
    "We begin by importing some necessary packages.  If the code cell below returns an error, please revisit the project instructions to double-check that you have installed [Unity ML-Agents](https://github.com/Unity-Technologies/ml-agents/blob/master/docs/Installation.md) and [NumPy](http://www.numpy.org/)."
   ]
  },
  {
   "cell_type": "code",
   "execution_count": 1,
   "metadata": {},
   "outputs": [],
   "source": [
    "from unityagents import UnityEnvironment\n",
    "import numpy as np"
   ]
  },
  {
   "cell_type": "markdown",
   "metadata": {},
   "source": [
    "Next, we will start the environment!  **_Before running the code cell below_**, change the `file_name` parameter to match the location of the Unity environment that you downloaded.\n",
    "\n",
    "- **Mac**: `\"path/to/Banana.app\"`\n",
    "- **Windows** (x86): `\"path/to/Banana_Windows_x86/Banana.exe\"`\n",
    "- **Windows** (x86_64): `\"path/to/Banana_Windows_x86_64/Banana.exe\"`\n",
    "- **Linux** (x86): `\"path/to/Banana_Linux/Banana.x86\"`\n",
    "- **Linux** (x86_64): `\"path/to/Banana_Linux/Banana.x86_64\"`\n",
    "- **Linux** (x86, headless): `\"path/to/Banana_Linux_NoVis/Banana.x86\"`\n",
    "- **Linux** (x86_64, headless): `\"path/to/Banana_Linux_NoVis/Banana.x86_64\"`\n",
    "\n",
    "For instance, if you are using a Mac, then you downloaded `Banana.app`.  If this file is in the same folder as the notebook, then the line below should appear as follows:\n",
    "```\n",
    "env = UnityEnvironment(file_name=\"Banana.app\")\n",
    "```"
   ]
  },
  {
   "cell_type": "code",
   "execution_count": 2,
   "metadata": {},
   "outputs": [
    {
     "name": "stderr",
     "output_type": "stream",
     "text": [
      "INFO:unityagents:\n",
      "'Academy' started successfully!\n",
      "Unity Academy name: Academy\n",
      "        Number of Brains: 1\n",
      "        Number of External Brains : 1\n",
      "        Lesson number : 0\n",
      "        Reset Parameters :\n",
      "\t\t\n",
      "Unity brain name: BananaBrain\n",
      "        Number of Visual Observations (per agent): 0\n",
      "        Vector Observation space type: continuous\n",
      "        Vector Observation space size (per agent): 37\n",
      "        Number of stacked Vector Observation: 1\n",
      "        Vector Action space type: discrete\n",
      "        Vector Action space size (per agent): 4\n",
      "        Vector Action descriptions: , , , \n"
     ]
    }
   ],
   "source": [
    "env = UnityEnvironment(file_name=\"Banana.app\")"
   ]
  },
  {
   "cell_type": "markdown",
   "metadata": {},
   "source": [
    "Environments contain **_brains_** which are responsible for deciding the actions of their associated agents. Here we check for the first brain available, and set it as the default brain we will be controlling from Python."
   ]
  },
  {
   "cell_type": "code",
   "execution_count": 3,
   "metadata": {},
   "outputs": [],
   "source": [
    "# get the default brain\n",
    "brain_name = env.brain_names[0]\n",
    "brain = env.brains[brain_name]"
   ]
  },
  {
   "cell_type": "markdown",
   "metadata": {},
   "source": [
    "### 2. Examine the State and Action Spaces\n",
    "\n",
    "The simulation contains a single agent that navigates a large environment.  At each time step, it has four actions at its disposal:\n",
    "- `0` - walk forward \n",
    "- `1` - walk backward\n",
    "- `2` - turn left\n",
    "- `3` - turn right\n",
    "\n",
    "The state space has `37` dimensions and contains the agent's velocity, along with ray-based perception of objects around agent's forward direction.  A reward of `+1` is provided for collecting a yellow banana, and a reward of `-1` is provided for collecting a blue banana. \n",
    "\n",
    "Run the code cell below to print some information about the environment."
   ]
  },
  {
   "cell_type": "code",
   "execution_count": 4,
   "metadata": {},
   "outputs": [
    {
     "name": "stdout",
     "output_type": "stream",
     "text": [
      "Number of agents: 1\n",
      "Number of actions: 4\n",
      "States look like: [1.         0.         0.         0.         0.84408134 0.\n",
      " 0.         1.         0.         0.0748472  0.         1.\n",
      " 0.         0.         0.25755    1.         0.         0.\n",
      " 0.         0.74177343 0.         1.         0.         0.\n",
      " 0.25854847 0.         0.         1.         0.         0.09355672\n",
      " 0.         1.         0.         0.         0.31969345 0.\n",
      " 0.        ]\n",
      "States have length: 37\n"
     ]
    }
   ],
   "source": [
    "# reset the environment\n",
    "env_info = env.reset(train_mode=True)[brain_name]\n",
    "\n",
    "# number of agents in the environment\n",
    "print('Number of agents:', len(env_info.agents))\n",
    "\n",
    "# number of actions\n",
    "action_size = brain.vector_action_space_size\n",
    "print('Number of actions:', action_size)\n",
    "\n",
    "# examine the state space \n",
    "state = env_info.vector_observations[0]\n",
    "print('States look like:', state)\n",
    "state_size = len(state)\n",
    "print('States have length:', state_size)"
   ]
  },
  {
   "cell_type": "markdown",
   "metadata": {},
   "source": [
    "### 3. Take Random Actions in the Environment\n",
    "\n",
    "In the next code cell, you will learn how to use the Python API to control the agent and receive feedback from the environment.\n",
    "\n",
    "Once this cell is executed, you will watch the agent's performance, if it selects an action (uniformly) at random with each time step.  A window should pop up that allows you to observe the agent, as it moves through the environment.  \n",
    "\n",
    "Of course, as part of the project, you'll have to change the code so that the agent is able to use its experience to gradually choose better actions when interacting with the environment!"
   ]
  },
  {
   "cell_type": "code",
   "execution_count": 5,
   "metadata": {},
   "outputs": [],
   "source": [
    "# env_info = env.reset(train_mode=False)[brain_name] # reset the environment\n",
    "# state = env_info.vector_observations[0]            # get the current state\n",
    "# score = 0                                          # initialize the score\n",
    "# while True:\n",
    "#     action = np.random.randint(action_size)        # select an action\n",
    "#     env_info = env.step(action)[brain_name]        # send the action to the environment\n",
    "#     next_state = env_info.vector_observations[0]   # get the next state\n",
    "#     reward = env_info.rewards[0]                   # get the reward\n",
    "#     done = env_info.local_done[0]                  # see if episode has finished\n",
    "#     score += reward                                # update the score\n",
    "#     state = next_state                             # roll over the state to next time step\n",
    "#     if done:                                       # exit loop if episode finished\n",
    "#         break\n",
    "    \n",
    "# print(\"Score: {}\".format(score))"
   ]
  },
  {
   "cell_type": "markdown",
   "metadata": {},
   "source": [
    "When finished, you can close the environment."
   ]
  },
  {
   "cell_type": "code",
   "execution_count": 6,
   "metadata": {},
   "outputs": [],
   "source": [
    "# env.close()"
   ]
  },
  {
   "cell_type": "markdown",
   "metadata": {},
   "source": [
    "### 4. It's Your Turn!\n",
    "\n",
    "Now it's your turn to train your own agent to solve the environment!  When training the environment, set `train_mode=True`, so that the line for resetting the environment looks like the following:\n",
    "```python\n",
    "env_info = env.reset(train_mode=True)[brain_name]\n",
    "```"
   ]
  },
  {
   "cell_type": "markdown",
   "metadata": {},
   "source": [
    "### Approach\n",
    "\n",
    "Here's the technical side of my approach to train an agent for this banana project\n",
    "- model: Dueling Network\n",
    "- replay: Prioritized Experience Replay"
   ]
  },
  {
   "cell_type": "markdown",
   "metadata": {},
   "source": [
    "#### Model"
   ]
  },
  {
   "cell_type": "code",
   "execution_count": 7,
   "metadata": {},
   "outputs": [],
   "source": [
    "import torch\n",
    "import torch.nn as nn\n",
    "import torch.nn.functional as F\n",
    "import torch.optim as optim"
   ]
  },
  {
   "cell_type": "code",
   "execution_count": 8,
   "metadata": {},
   "outputs": [],
   "source": [
    "class DuelingNetwork(nn.Module):\n",
    "    \n",
    "    def __init__(self, state_size, action_size, seed):\n",
    "        \n",
    "        super(DuelingNetwork, self).__init__()\n",
    "        self.seed = torch.manual_seed(seed)\n",
    "        self.action_size = action_size\n",
    "        \n",
    "        #fc1 37 -> 64\n",
    "        self.fc1 = nn.Linear(state_size, 64)\n",
    "        \n",
    "        #relu1\n",
    "        self.relu1 = nn.ReLU()\n",
    "        \n",
    "        #fc2 64 -> 64\n",
    "        self.fc2 = nn.Linear(64, 64)\n",
    "        \n",
    "        #relu2\n",
    "        self.relu2 = nn.ReLU()\n",
    "        \n",
    "        #fc3 64 -> state_value = 1\n",
    "        self.fc3_to_state_value = nn.Linear(64, 1)\n",
    "        \n",
    "        #fc3 64 -> action_value\n",
    "        self.fc3_to_action_value = nn.Linear(64, self.action_size)\n",
    "        \n",
    "    def forward(self, state):\n",
    "        \n",
    "        #input state: [bsz, 37]\n",
    "        \n",
    "        #fc1 37 -> 64\n",
    "        x = self.fc1(state)\n",
    "        \n",
    "        #relu1\n",
    "        x = self.relu1(x)\n",
    "        \n",
    "        #fc2 64 -> 64\n",
    "        x = self.fc2(x)\n",
    "        \n",
    "        #relu2\n",
    "        x = self.relu2(x)\n",
    "        \n",
    "        #fc3 64 -> state_value\n",
    "        v_x = self.fc3_to_state_value(x)\n",
    "        \n",
    "        #fc3 64 -> action_value\n",
    "        a_x = self.fc3_to_action_value(x)\n",
    "        \n",
    "        #average operator\n",
    "        average_operator = (1 / self.action_size) * a_x\n",
    "        \n",
    "        x = v_x + ( a_x - average_operator ) \n",
    "        \n",
    "        return x"
   ]
  },
  {
   "cell_type": "markdown",
   "metadata": {},
   "source": [
    "#### Prioritized Experience Replay"
   ]
  },
  {
   "cell_type": "code",
   "execution_count": 9,
   "metadata": {},
   "outputs": [],
   "source": [
    "import random, os, pickle\n",
    "from collections import deque, namedtuple\n",
    "\n",
    "class PrioritizedReplayBuffer(object):\n",
    "    \"\"\"\n",
    "    https://github.com/higgsfield/RL-Adventure/blob/master/4.prioritized%20dqn.ipynb\n",
    "    \"\"\"\n",
    "    def __init__(self, buffer_size, batch_size, prob_alpha=0.6, prob_beta=0.5):\n",
    "        self.prob_alpha = prob_alpha\n",
    "        self.prob_beta = prob_beta\n",
    "        self.buffer_size = buffer_size\n",
    "        self.batch_size = batch_size\n",
    "        self.buffer = []\n",
    "        self.pos = 0\n",
    "        self.priorities = np.zeros((buffer_size, ), dtype=np.float32) # long array\n",
    "        self.experience = namedtuple(\"Experience\", field_names=[\"state\", \n",
    "                                                                \"action\", \n",
    "                                                                \"reward\", \n",
    "                                                                \"next_state\",\n",
    "                                                                \"done\"])\n",
    "        \n",
    "    def add(self, state, action, reward, next_state, done):\n",
    "        \n",
    "        # if self.buffer is empty return 1.0, else max\n",
    "        max_priority = self.priorities.max() if self.buffer else 1.0\n",
    "        exp = self.experience(state, action, reward, next_state, done)\n",
    "        \n",
    "        # if buffer has rooms left\n",
    "        if len(self.buffer) < self.buffer_size:\n",
    "            self.buffer.append(exp)\n",
    "        else:\n",
    "            self.buffer[self.pos] = exp\n",
    "        \n",
    "        # assign max priority\n",
    "        self.priorities[self.pos] = max_priority\n",
    "        \n",
    "        # update index\n",
    "        self.pos = (self.pos + 1) % self.buffer_size \n",
    "        \n",
    "    def sample(self, completion):\n",
    "        \n",
    "        beta = self.prob_beta + (1-self.prob_beta) * completion\n",
    "        \n",
    "        # if buffer is maxed out..\n",
    "        if len(self.buffer) == self.buffer_size:\n",
    "            # all priorities are the same as self.priorities\n",
    "            priorities = self.priorities\n",
    "        else:\n",
    "            # all priorities are up to self.pos cuz it's not full yet\n",
    "            priorities = self.priorities[:self.pos]\n",
    "            \n",
    "        # $ P(i) = (p_i^\\alpha) / \\Sigma_k p_k^\\alpha $\n",
    "        probabilities_a = priorities ** self.prob_alpha\n",
    "        sum_probabilties_a = probabilities_a.sum()\n",
    "        P_i = probabilities_a / sum_probabilties_a\n",
    "        \n",
    "        sampled_indices = np.random.choice(len(self.buffer), self.batch_size, p=P_i)\n",
    "        experiences = [self.buffer[idx] for idx in sampled_indices]\n",
    "        \n",
    "        # $ w_i = ( 1/N * 1/P(i) ) ** \\beta $\n",
    "        # $ w_i = ( N * P(i) ** (-1 * \\beta) ) $\n",
    "        N = len(self.buffer)\n",
    "        weights = ( N * P_i[sampled_indices] ) ** (-1 * beta)\n",
    "        \n",
    "        #  For stability reasons, we always normalize weights by 1/ maxi wi so\n",
    "        #  that they only scale the update downwards.\n",
    "        weights = weights / weights.max()\n",
    "        \n",
    "        states = torch.from_numpy(np.vstack([exp.state for exp in experiences if exp is not None])).float().to(device)\n",
    "        actions = torch.from_numpy(np.vstack([exp.action for exp in experiences if exp is not None])).long().to(device)\n",
    "        rewards = torch.from_numpy(np.vstack([exp.reward for exp in experiences if exp is not None])).float().to(device)\n",
    "        next_states = torch.from_numpy(np.vstack([exp.next_state for exp in experiences if exp is not None])).float().to(device)\n",
    "        dones = torch.from_numpy(np.vstack([exp.done for exp in experiences if exp is not None]).astype(np.uint8)).float().to(device)\n",
    "        weights = torch.from_numpy(np.vstack(weights)).float()\n",
    "        \n",
    "        return states, actions, rewards, next_states, dones, sampled_indices, weights\n",
    "        \n",
    "    def update_priorities(self, batch_indicies, batch_priorities):\n",
    "        for idx, priority in zip(batch_indicies, batch_priorities):\n",
    "            self.priorities[idx] = priority\n",
    "        \n",
    "    def __len__(self):\n",
    "        return len(self.buffer)"
   ]
  },
  {
   "cell_type": "markdown",
   "metadata": {},
   "source": [
    "#### DuelingNetwork Agent"
   ]
  },
  {
   "cell_type": "code",
   "execution_count": 10,
   "metadata": {},
   "outputs": [],
   "source": [
    "class DNPERAgent():\n",
    "    \n",
    "    def __init__(self, state_size, action_size, seed):\n",
    "        self.state_size = state_size\n",
    "        self.action_size = action_size\n",
    "        self.seed = random.seed(seed)\n",
    "        \n",
    "        # initialize DuelingNetwork\n",
    "        self.qnetwork_local = DuelingNetwork(state_size, action_size, seed).to(device)\n",
    "        self.qnetwork_target = DuelingNetwork(state_size, action_size, seed).to(device)\n",
    "        self.optimizer = optim.Adam(self.qnetwork_local.parameters(), lr=LR)\n",
    "        \n",
    "        # replay memory\n",
    "        self.memory = PrioritizedReplayBuffer(BUFFER_SIZE, BATCH_SIZE)\n",
    "        \n",
    "        # initialize time step\n",
    "        self.t_step = 0\n",
    "    \n",
    "    \n",
    "    def step(self, state, action, reward, next_state, done, completion):\n",
    "        \n",
    "        # save experience in replay memory\n",
    "        self.memory.add(state, action, reward, next_state, done)\n",
    "    \n",
    "        # Learn every UPDATE_EVERY time steps\n",
    "        self.t_step = (self.t_step + 1) % UPDATE_EVERY\n",
    "        if self.t_step == 0:\n",
    "            if len(self.memory) > BATCH_SIZE:\n",
    "                experiences = self.memory.sample(completion)\n",
    "                self.learn(experiences, GAMMA)\n",
    "    \n",
    "    def act(self, state, eps=0.):\n",
    "        # single state to state tensor (batch size = 1)\n",
    "        state = torch.from_numpy(state).float().unsqueeze(0).to(device)\n",
    "        \n",
    "        # set eval mode for local QN \n",
    "        self.qnetwork_local.eval()\n",
    "        \n",
    "        # predict state value with local QN\n",
    "        with torch.no_grad(): # no need to save the gradient value\n",
    "            action_values = self.qnetwork_local(state)\n",
    "        \n",
    "        # set the mode of local QN back to train\n",
    "        self.qnetwork_local.train()\n",
    "        \n",
    "        # e-greedy action selection\n",
    "        # return greedy action if prob > eps\n",
    "        if random.random() > eps:\n",
    "            return np.argmax(action_values.cpu().data.numpy())\n",
    "        \n",
    "        # return random action if prob <= eps\n",
    "        else:\n",
    "            return random.choice(np.arange(self.action_size))\n",
    "        \n",
    "    \n",
    "    def learn(self, experiences, gamma, p_eps = 1e-5):\n",
    "        \n",
    "        # unpack epxeriences\n",
    "        states, actions, rewards, next_states, dones, sampled_indicies, weights = experiences\n",
    "        \n",
    "        \n",
    "        best_actions = self.qnetwork_local(next_states).max(1)[1].unsqueeze(1)\n",
    "        Q_targets_next = self.qnetwork_target(next_states).detach().gather(1, best_actions)\n",
    "        \n",
    "        # compute Q targets from current states\n",
    "        Q_targets = rewards + gamma * Q_targets_next * (1-dones)\n",
    "        \n",
    "        # get expected Q values from local model\n",
    "        Q_expected = self.qnetwork_local(states).gather(1, actions)\n",
    "        \n",
    "        TD_Error = Q_targets - Q_expected\n",
    "        new_priorities = TD_Error.abs().detach().numpy() + p_eps\n",
    "        \n",
    "        loss = (TD_Error.pow(2) * weights).mean()\n",
    "        \n",
    "        \n",
    "        \n",
    "        # minimise the loss\n",
    "        self.optimizer.zero_grad()\n",
    "        loss.backward()\n",
    "        self.memory.update_priorities(sampled_indicies, new_priorities)\n",
    "        self.optimizer.step()\n",
    "        \n",
    "        # update target network\n",
    "        self.soft_update(self.qnetwork_local, self.qnetwork_target, TAU)\n",
    "    \n",
    "    def soft_update(self, local_model, target_model, tau):\n",
    "        # Q_target = TAU * local_model + (1-TAU) * target_model\n",
    "        \n",
    "        for target_param, local_param in zip(target_model.parameters(), local_model.parameters()):\n",
    "            target_param.data.copy_(tau*local_param.data + (1.0 - tau)*target_param.data)"
   ]
  },
  {
   "cell_type": "markdown",
   "metadata": {},
   "source": [
    "#### Train"
   ]
  },
  {
   "cell_type": "code",
   "execution_count": 11,
   "metadata": {},
   "outputs": [],
   "source": [
    "def train_with_per(agent, n_episodes=2000, eps_start=1.0, eps_end=0.01, eps_decay=0.995, fname=\"dqn\"):\n",
    "    \n",
    "    output_path = \"outputs/{}\".format(fname)\n",
    "    if not os.path.exists(output_path):\n",
    "        os.makedirs(output_path)\n",
    "    \n",
    "    scores = [] # list containing scores from each episode\n",
    "    scores_window = deque(maxlen=100) # last 100 scores\n",
    "    eps = eps_start # initialize epsilon\n",
    "    save_score_threshold = 10\n",
    "    \n",
    "    env = UnityEnvironment(file_name=\"Banana.app\")\n",
    "    brain_name = env.brain_names[0]\n",
    "    brain = env.brains[brain_name]\n",
    "    \n",
    "    # for every episode..\n",
    "    for i_episode in range(n_episodes):\n",
    "        \n",
    "        # episode completion\n",
    "        completion = i_episode / n_episodes\n",
    "        \n",
    "        # reset state\n",
    "        env_info = env.reset(train_mode=True)[brain_name]\n",
    "        state = env_info.vector_observations[0]\n",
    "        \n",
    "        # reset score to 0\n",
    "        score = 0\n",
    "        \n",
    "        # for every time step until max_t\n",
    "        while True:\n",
    "            \n",
    "            # get action based on e-greedy policy\n",
    "            action = agent.act(state, eps)\n",
    "            \n",
    "            # execute the chosen action\n",
    "            env_info = env.step(action)[brain_name]\n",
    "            next_state = env_info.vector_observations[0]\n",
    "            reward = env_info.rewards[0]\n",
    "            done = env_info.local_done[0]\n",
    "            \n",
    "            # update the network with experience replay\n",
    "            agent.step(state, action, reward, next_state, done, completion)\n",
    "            \n",
    "            # set next_state as the new state\n",
    "            state = next_state\n",
    "            \n",
    "            # add reward to the score\n",
    "            score += reward\n",
    "            \n",
    "            # if the agent has reached the terminal state, break the loop\n",
    "            if done:\n",
    "                break\n",
    "        \n",
    "        # append the episode score to the deque\n",
    "        scores_window.append(score)\n",
    "        \n",
    "        # append the episode score to the list\n",
    "        scores.append(score)\n",
    "        \n",
    "        # decrease episilon\n",
    "        eps = max(eps_end, eps_decay * eps)\n",
    "        \n",
    "        # display metrics\n",
    "        print('\\rEpisode {}\\tAverage Score: {:.2f}'.format(i_episode, np.mean(scores_window)), end=\"\")\n",
    "        if i_episode % 100 == 0:\n",
    "            print('\\rEpisode {}\\tAverage Score: {:.2f}'.format(i_episode, np.mean(scores_window)))\n",
    "        \n",
    "        # save model if the latest average score is higher than 200.0\n",
    "        if np.mean(scores_window) >= save_score_threshold:\n",
    "            print('\\nEnvironment solved in {:d} episodes! \\tAverage Score: {:.2f}'.format(i_episode-100, np.mean(scores_window)))\n",
    "            torch.save(agent.qnetwork_local.state_dict(), '{}/cp{:04d}.pth'.format(output_path, i_episode-100))\n",
    "            save_score_threshold += 1\n",
    "    \n",
    "    with open(os.path.join(output_path, \"score.pkl\"), \"wb\") as f:\n",
    "        pickle.dump(scores, f)\n",
    "        \n",
    "    env.close()"
   ]
  },
  {
   "cell_type": "code",
   "execution_count": 12,
   "metadata": {},
   "outputs": [],
   "source": [
    "BUFFER_SIZE = int(100000) # replay buffer size\n",
    "BATCH_SIZE = 64           # minibatch size\n",
    "GAMMA = 0.99              # discount factor\n",
    "TAU = 1e-3                # for soft update of target parameters\n",
    "LR = 0.0005               # learning rate\n",
    "UPDATE_EVERY = 4          # how often to update the network\n"
   ]
  },
  {
   "cell_type": "code",
   "execution_count": 13,
   "metadata": {},
   "outputs": [
    {
     "name": "stderr",
     "output_type": "stream",
     "text": [
      "INFO:unityagents:\n",
      "'Academy' started successfully!\n",
      "Unity Academy name: Academy\n",
      "        Number of Brains: 1\n",
      "        Number of External Brains : 1\n",
      "        Lesson number : 0\n",
      "        Reset Parameters :\n",
      "\t\t\n",
      "Unity brain name: BananaBrain\n",
      "        Number of Visual Observations (per agent): 0\n",
      "        Vector Observation space type: continuous\n",
      "        Vector Observation space size (per agent): 37\n",
      "        Number of stacked Vector Observation: 1\n",
      "        Vector Action space type: discrete\n",
      "        Vector Action space size (per agent): 4\n",
      "        Vector Action descriptions: , , , \n"
     ]
    },
    {
     "name": "stdout",
     "output_type": "stream",
     "text": [
      "Episode 0\tAverage Score: 0.00\n",
      "Episode 100\tAverage Score: 0.28\n",
      "Episode 200\tAverage Score: 1.87\n",
      "Episode 300\tAverage Score: 5.95\n",
      "Episode 400\tAverage Score: 8.92\n",
      "Episode 428\tAverage Score: 10.02\n",
      "Environment solved in 328 episodes! \tAverage Score: 10.02\n",
      "Episode 457\tAverage Score: 11.01\n",
      "Environment solved in 357 episodes! \tAverage Score: 11.01\n",
      "Episode 500\tAverage Score: 11.93\n",
      "Episode 501\tAverage Score: 12.00\n",
      "Environment solved in 401 episodes! \tAverage Score: 12.00\n",
      "Episode 585\tAverage Score: 13.12\n",
      "Environment solved in 485 episodes! \tAverage Score: 13.12\n",
      "Episode 600\tAverage Score: 13.37\n",
      "Episode 700\tAverage Score: 13.54\n",
      "Episode 758\tAverage Score: 14.04\n",
      "Environment solved in 658 episodes! \tAverage Score: 14.04\n",
      "Episode 800\tAverage Score: 14.67\n",
      "Episode 900\tAverage Score: 14.71\n",
      "Episode 1000\tAverage Score: 14.60\n",
      "Episode 1023\tAverage Score: 15.02\n",
      "Environment solved in 923 episodes! \tAverage Score: 15.02\n",
      "Episode 1094\tAverage Score: 16.04\n",
      "Environment solved in 994 episodes! \tAverage Score: 16.04\n",
      "Episode 1100\tAverage Score: 16.19\n",
      "Episode 1200\tAverage Score: 14.43\n",
      "Episode 1300\tAverage Score: 14.37\n",
      "Episode 1400\tAverage Score: 15.13\n",
      "Episode 1500\tAverage Score: 15.11\n",
      "Episode 1600\tAverage Score: 15.94\n",
      "Episode 1700\tAverage Score: 15.73\n",
      "Episode 1800\tAverage Score: 15.70\n",
      "Episode 1900\tAverage Score: 15.28\n",
      "Episode 1999\tAverage Score: 15.31"
     ]
    }
   ],
   "source": [
    "device = torch.device(\"cuda:0\" if torch.cuda.is_available() else \"cpu\")\n",
    "\n",
    "fname = \"dn_per\"\n",
    "state_size = 37\n",
    "action_size = 4\n",
    "agent = DNPERAgent(state_size=state_size, action_size=action_size, seed=0)\n",
    "train_with_per(agent, fname=fname)"
   ]
  },
  {
   "cell_type": "code",
   "execution_count": 14,
   "metadata": {},
   "outputs": [],
   "source": [
    "# env = UnityEnvironment(file_name=\"Banana.app\")\n",
    "    "
   ]
  },
  {
   "cell_type": "code",
   "execution_count": 15,
   "metadata": {},
   "outputs": [],
   "source": [
    "with open(\"outputs/dn_per/score.pkl\", \"rb\") as f:\n",
    "    k = pickle.load(f)"
   ]
  },
  {
   "cell_type": "code",
   "execution_count": 17,
   "metadata": {},
   "outputs": [
    {
     "data": {
      "text/plain": [
       "[<matplotlib.lines.Line2D at 0x10ccf3780>]"
      ]
     },
     "execution_count": 17,
     "metadata": {},
     "output_type": "execute_result"
    },
    {
     "data": {
      "image/png": "[encoded data removed]",
      "text/plain": [
       "<Figure size 432x288 with 1 Axes>"
      ]
     },
     "metadata": {
      "needs_background": "light"
     },
     "output_type": "display_data"
    }
   ],
   "source": [
    "import matplotlib.pyplot as plt\n",
    "%matplotlib inline\n",
    "\n",
    "fig, ax = plt.subplots()\n",
    "ax.plot(k)"
   ]
  },
  {
   "cell_type": "code",
   "execution_count": null,
   "metadata": {},
   "outputs": [],
   "source": []
  }
 ],
 "metadata": {
  "kernelspec": {
   "display_name": "Python 3",
   "language": "python",
   "name": "python3"
  },
  "language_info": {
   "codemirror_mode": {
    "name": "ipython",
    "version": 3
   },
   "file_extension": ".py",
   "mimetype": "text/x-python",
   "name": "python",
   "nbconvert_exporter": "python",
   "pygments_lexer": "ipython3",
   "version": "3.6.7"
  }
 },
 "nbformat": 4,
 "nbformat_minor": 2
}
